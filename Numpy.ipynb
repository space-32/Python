{
  "nbformat": 4,
  "nbformat_minor": 0,
  "metadata": {
    "colab": {
      "provenance": [],
      "authorship_tag": "ABX9TyMP6ySvtlgAn9tFPjKuB+zj",
      "include_colab_link": true
    },
    "kernelspec": {
      "name": "python3",
      "display_name": "Python 3"
    },
    "language_info": {
      "name": "python"
    }
  },
  "cells": [
    {
      "cell_type": "markdown",
      "metadata": {
        "id": "view-in-github",
        "colab_type": "text"
      },
      "source": [
        "<a href=\"https://colab.research.google.com/github/space-32/Python/blob/main/Numpy.ipynb\" target=\"_parent\"><img src=\"https://colab.research.google.com/assets/colab-badge.svg\" alt=\"Open In Colab\"/></a>"
      ]
    },
    {
      "cell_type": "code",
      "execution_count": null,
      "metadata": {
        "colab": {
          "base_uri": "https://localhost:8080/"
        },
        "id": "g7g6kjr_HpQ8",
        "outputId": "11741ed2-f440-4ef9-a228-eace30cc053b"
      },
      "outputs": [
        {
          "output_type": "stream",
          "name": "stdout",
          "text": [
            "[1 2 3 4 5]\n",
            "<class 'numpy.ndarray'>\n",
            "(5,)\n",
            "int64\n"
          ]
        }
      ],
      "source": [
        "import numpy as np #uses of alias\n",
        "\n",
        "arr= np.array([1,2,3,4,5])\n",
        "print(arr)\n",
        "print(type(arr)) #type of array\n",
        "print(arr.shape) #dimension of array\n",
        "print(arr.dtype) #dtype tells what type of values are stored"
      ]
    },
    {
      "cell_type": "code",
      "source": [
        "print(np.__version__) #gives the version of np"
      ],
      "metadata": {
        "colab": {
          "base_uri": "https://localhost:8080/"
        },
        "id": "s4hAXQUzJdSd",
        "outputId": "5d400574-be1d-47e8-c957-036f8809158d"
      },
      "execution_count": null,
      "outputs": [
        {
          "output_type": "stream",
          "name": "stdout",
          "text": [
            "1.25.2\n"
          ]
        }
      ]
    },
    {
      "cell_type": "code",
      "source": [
        "arr=np.array(42) #arr variable is overriddening the previous arr\n",
        "print(arr)\n",
        "print(type(arr))\n",
        "print(arr.shape)\n",
        "print(arr.dtype)"
      ],
      "metadata": {
        "colab": {
          "base_uri": "https://localhost:8080/"
        },
        "id": "ftgHOuJBLmf3",
        "outputId": "211f632a-c472-4280-8277-63759a062ca6"
      },
      "execution_count": null,
      "outputs": [
        {
          "output_type": "stream",
          "name": "stdout",
          "text": [
            "42\n",
            "<class 'numpy.ndarray'>\n",
            "()\n",
            "int64\n"
          ]
        }
      ]
    },
    {
      "cell_type": "code",
      "source": [
        "arr = np.array([[1,2,3],[4,5,6]])\n",
        "print(arr)\n",
        "print(type(arr))\n",
        "print(arr.shape) # shapr= 2 rows and 3 cols\n",
        "print(arr.dtype)"
      ],
      "metadata": {
        "colab": {
          "base_uri": "https://localhost:8080/"
        },
        "id": "tQN_PyK3L3vj",
        "outputId": "7fe2bb75-fb82-4d3a-d5c8-38f4a19f6b45"
      },
      "execution_count": null,
      "outputs": [
        {
          "output_type": "stream",
          "name": "stdout",
          "text": [
            "[[1 2 3]\n",
            " [4 5 6]]\n",
            "<class 'numpy.ndarray'>\n",
            "(2, 3)\n",
            "int64\n"
          ]
        }
      ]
    },
    {
      "cell_type": "code",
      "source": [
        "arr=np.array([[[1,2,3],[4,5,6]],[[1,2,3],[4,5,6]]])\n",
        "print(arr)\n",
        "print(type(arr))\n",
        "print(arr.shape)\n",
        "print(arr.dtype)"
      ],
      "metadata": {
        "colab": {
          "base_uri": "https://localhost:8080/"
        },
        "id": "KI7j2l7LMTOe",
        "outputId": "031055c5-be88-4245-9cd2-6c68ef32243c"
      },
      "execution_count": null,
      "outputs": [
        {
          "output_type": "stream",
          "name": "stdout",
          "text": [
            "[[[1 2 3]\n",
            "  [4 5 6]]\n",
            "\n",
            " [[1 2 3]\n",
            "  [4 5 6]]]\n",
            "<class 'numpy.ndarray'>\n",
            "(2, 2, 3)\n",
            "int64\n"
          ]
        }
      ]
    },
    {
      "cell_type": "code",
      "source": [
        "arr= np.array([1,2,3,4])\n",
        "print(arr[2]+arr[3])\n"
      ],
      "metadata": {
        "colab": {
          "base_uri": "https://localhost:8080/"
        },
        "id": "vNRYOqGNM58d",
        "outputId": "e98d5338-68ec-420c-bca7-72ee93e3f9ad"
      },
      "execution_count": null,
      "outputs": [
        {
          "output_type": "stream",
          "name": "stdout",
          "text": [
            "7\n"
          ]
        }
      ]
    },
    {
      "cell_type": "code",
      "source": [
        "arr= np.array([1,2,3,4,5,6,7])\n",
        "print(arr[1:5]) #this is known as slicing, in which it will take the element of index 1 but exclusive of index 5\n",
        "print(arr[:3]) # will print the elements from index 0 to mentioned index 3"
      ],
      "metadata": {
        "colab": {
          "base_uri": "https://localhost:8080/"
        },
        "id": "AwwpoBHvNJMX",
        "outputId": "72bac8c8-e71b-47ff-d6c4-aa08150da76c"
      },
      "execution_count": null,
      "outputs": [
        {
          "output_type": "stream",
          "name": "stdout",
          "text": [
            "[2 3 4 5]\n",
            "[1 2 3]\n"
          ]
        }
      ]
    },
    {
      "cell_type": "code",
      "source": [
        "#we can create array using other methods of numpy such as np.zeros(), np.ones(),np.arange()\n",
        "m=np.arange(10)\n",
        "print(m)\n",
        "\n",
        "y=np.zeros(5)\n",
        "print(y)\n"
      ],
      "metadata": {
        "colab": {
          "base_uri": "https://localhost:8080/"
        },
        "id": "gjxRFYuNOCrH",
        "outputId": "3d4f6bab-b520-48ac-e29a-004febc03ea8"
      },
      "execution_count": null,
      "outputs": [
        {
          "output_type": "stream",
          "name": "stdout",
          "text": [
            "[0 1 2 3 4 5 6 7 8 9]\n",
            "[0. 0. 0. 0. 0.]\n"
          ]
        }
      ]
    },
    {
      "cell_type": "code",
      "source": [
        "#Numpy-ndarray basic operations\n",
        "a=np.array([2,3,4],int)\n",
        "\n",
        "print(a.sum()) #will sum\n",
        "print(a.prod()) #will give product\n",
        "print(a.mean()) #will give mean\n",
        "print(a.std())  #will give standard deviation\n",
        "print(a.min()) #will give minimum\n",
        "print(a.max()) #will give maximum"
      ],
      "metadata": {
        "colab": {
          "base_uri": "https://localhost:8080/"
        },
        "id": "cgDjoaTjO2dx",
        "outputId": "ea8cbc1e-cf2f-4421-a4c6-8a5cd2af12e6"
      },
      "execution_count": null,
      "outputs": [
        {
          "output_type": "stream",
          "name": "stdout",
          "text": [
            "9\n",
            "24\n",
            "3.0\n",
            "0.816496580927726\n",
            "2\n",
            "4\n"
          ]
        }
      ]
    },
    {
      "cell_type": "code",
      "source": [
        "a=np.array([[1,2,3],[4,5,6],[7,8,9]])\n",
        "print(a.transpose()) #will give transpose\n",
        "np.invert(a) #will give inverse"
      ],
      "metadata": {
        "colab": {
          "base_uri": "https://localhost:8080/"
        },
        "id": "wiuOAqqyPDEe",
        "outputId": "8dec2367-a01b-42f4-cbc1-600bf29e8db1"
      },
      "execution_count": null,
      "outputs": [
        {
          "output_type": "stream",
          "name": "stdout",
          "text": [
            "[[1 4 7]\n",
            " [2 5 8]\n",
            " [3 6 9]]\n"
          ]
        },
        {
          "output_type": "execute_result",
          "data": {
            "text/plain": [
              "array([[ -2,  -3,  -4],\n",
              "       [ -5,  -6,  -7],\n",
              "       [ -8,  -9, -10]])"
            ]
          },
          "metadata": {},
          "execution_count": 31
        }
      ]
    }
  ]
}